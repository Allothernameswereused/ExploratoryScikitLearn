{
 "cells": [
  {
   "cell_type": "code",
   "execution_count": 1,
   "id": "ec3cc18d-1325-4bd4-8275-1d4a3c976652",
   "metadata": {},
   "outputs": [],
   "source": [
    "import pandas as pd\n",
    "import numpy as np\n",
    "import seaborn as sb\n",
    "import matplotlib.pyplot as plt\n",
    "import matplotlib.patches as mpatches"
   ]
  },
  {
   "cell_type": "code",
   "execution_count": 2,
   "id": "e196f97e-5b25-4efd-90fc-f27f2f93410b",
   "metadata": {},
   "outputs": [],
   "source": [
    "df = pd.read_csv (\"http://archive.ics.uci.edu/ml/machine-learning-databases/00292/Wholesale%20customers%20data.csv\")"
   ]
  },
  {
   "cell_type": "code",
   "execution_count": 3,
   "id": "085735cc-965f-4c0c-adf3-e22dcd672d08",
   "metadata": {},
   "outputs": [
    {
     "data": {
      "text/html": [
       "<div>\n",
       "<style scoped>\n",
       "    .dataframe tbody tr th:only-of-type {\n",
       "        vertical-align: middle;\n",
       "    }\n",
       "\n",
       "    .dataframe tbody tr th {\n",
       "        vertical-align: top;\n",
       "    }\n",
       "\n",
       "    .dataframe thead th {\n",
       "        text-align: right;\n",
       "    }\n",
       "</style>\n",
       "<table border=\"1\" class=\"dataframe\">\n",
       "  <thead>\n",
       "    <tr style=\"text-align: right;\">\n",
       "      <th></th>\n",
       "      <th>Channel</th>\n",
       "      <th>Region</th>\n",
       "      <th>Fresh</th>\n",
       "      <th>Milk</th>\n",
       "      <th>Grocery</th>\n",
       "      <th>Frozen</th>\n",
       "      <th>Detergents_Paper</th>\n",
       "      <th>Delicassen</th>\n",
       "    </tr>\n",
       "  </thead>\n",
       "  <tbody>\n",
       "    <tr>\n",
       "      <th>0</th>\n",
       "      <td>2</td>\n",
       "      <td>3</td>\n",
       "      <td>12669</td>\n",
       "      <td>9656</td>\n",
       "      <td>7561</td>\n",
       "      <td>214</td>\n",
       "      <td>2674</td>\n",
       "      <td>1338</td>\n",
       "    </tr>\n",
       "    <tr>\n",
       "      <th>1</th>\n",
       "      <td>2</td>\n",
       "      <td>3</td>\n",
       "      <td>7057</td>\n",
       "      <td>9810</td>\n",
       "      <td>9568</td>\n",
       "      <td>1762</td>\n",
       "      <td>3293</td>\n",
       "      <td>1776</td>\n",
       "    </tr>\n",
       "    <tr>\n",
       "      <th>2</th>\n",
       "      <td>2</td>\n",
       "      <td>3</td>\n",
       "      <td>6353</td>\n",
       "      <td>8808</td>\n",
       "      <td>7684</td>\n",
       "      <td>2405</td>\n",
       "      <td>3516</td>\n",
       "      <td>7844</td>\n",
       "    </tr>\n",
       "    <tr>\n",
       "      <th>3</th>\n",
       "      <td>1</td>\n",
       "      <td>3</td>\n",
       "      <td>13265</td>\n",
       "      <td>1196</td>\n",
       "      <td>4221</td>\n",
       "      <td>6404</td>\n",
       "      <td>507</td>\n",
       "      <td>1788</td>\n",
       "    </tr>\n",
       "    <tr>\n",
       "      <th>4</th>\n",
       "      <td>2</td>\n",
       "      <td>3</td>\n",
       "      <td>22615</td>\n",
       "      <td>5410</td>\n",
       "      <td>7198</td>\n",
       "      <td>3915</td>\n",
       "      <td>1777</td>\n",
       "      <td>5185</td>\n",
       "    </tr>\n",
       "  </tbody>\n",
       "</table>\n",
       "</div>"
      ],
      "text/plain": [
       "   Channel  Region  Fresh  Milk  Grocery  Frozen  Detergents_Paper  Delicassen\n",
       "0        2       3  12669  9656     7561     214              2674        1338\n",
       "1        2       3   7057  9810     9568    1762              3293        1776\n",
       "2        2       3   6353  8808     7684    2405              3516        7844\n",
       "3        1       3  13265  1196     4221    6404               507        1788\n",
       "4        2       3  22615  5410     7198    3915              1777        5185"
      ]
     },
     "execution_count": 3,
     "metadata": {},
     "output_type": "execute_result"
    }
   ],
   "source": [
    "df.head()"
   ]
  },
  {
   "cell_type": "code",
   "execution_count": 4,
   "id": "dae1135f-d23f-460b-b877-9e2de57191d5",
   "metadata": {},
   "outputs": [
    {
     "data": {
      "text/plain": [
       "Channel             0\n",
       "Region              0\n",
       "Fresh               0\n",
       "Milk                0\n",
       "Grocery             0\n",
       "Frozen              0\n",
       "Detergents_Paper    0\n",
       "Delicassen          0\n",
       "dtype: int64"
      ]
     },
     "execution_count": 4,
     "metadata": {},
     "output_type": "execute_result"
    }
   ],
   "source": [
    "df.isnull().sum()"
   ]
  },
  {
   "cell_type": "code",
   "execution_count": 5,
   "id": "1cef8cae-0d57-42b6-af9e-1bb91705adb6",
   "metadata": {},
   "outputs": [
    {
     "name": "stdout",
     "output_type": "stream",
     "text": [
      "<class 'pandas.core.frame.DataFrame'>\n",
      "RangeIndex: 440 entries, 0 to 439\n",
      "Data columns (total 8 columns):\n",
      " #   Column            Non-Null Count  Dtype\n",
      "---  ------            --------------  -----\n",
      " 0   Channel           440 non-null    int64\n",
      " 1   Region            440 non-null    int64\n",
      " 2   Fresh             440 non-null    int64\n",
      " 3   Milk              440 non-null    int64\n",
      " 4   Grocery           440 non-null    int64\n",
      " 5   Frozen            440 non-null    int64\n",
      " 6   Detergents_Paper  440 non-null    int64\n",
      " 7   Delicassen        440 non-null    int64\n",
      "dtypes: int64(8)\n",
      "memory usage: 27.6 KB\n"
     ]
    }
   ],
   "source": [
    "df.info()"
   ]
  },
  {
   "cell_type": "code",
   "execution_count": 6,
   "id": "46d9e62d-dcb8-41d1-8684-3e3eaa6c21d6",
   "metadata": {},
   "outputs": [
    {
     "data": {
      "text/plain": [
       "array([2, 1], dtype=int64)"
      ]
     },
     "execution_count": 6,
     "metadata": {},
     "output_type": "execute_result"
    }
   ],
   "source": [
    "df ['Channel'].unique()"
   ]
  },
  {
   "cell_type": "code",
   "execution_count": 7,
   "id": "c2b738ca-9fb6-410f-9adf-8506fde9a27d",
   "metadata": {},
   "outputs": [
    {
     "data": {
      "text/plain": [
       "array([3, 1, 2], dtype=int64)"
      ]
     },
     "execution_count": 7,
     "metadata": {},
     "output_type": "execute_result"
    }
   ],
   "source": [
    "df ['Region'].unique()"
   ]
  },
  {
   "cell_type": "code",
   "execution_count": 8,
   "id": "80ff0385-6358-495f-9c98-be909a9c46c1",
   "metadata": {},
   "outputs": [],
   "source": [
    "ykb = df[(df['Region']==1)]\n",
    "msk = df[(df['Region']==2)]\n",
    "oth = df[(df['Region']==3)]"
   ]
  },
  {
   "cell_type": "code",
   "execution_count": 9,
   "id": "0e37a1af-deff-4315-8aab-bf6b8adba495",
   "metadata": {},
   "outputs": [],
   "source": [
    "milk1 = ykb['Milk'].sum()\n",
    "fresh1 = ykb['Fresh'].sum()\n",
    "frozen1 = ykb['Frozen'].sum()\n",
    "milk2 = msk['Milk'].sum()\n",
    "fresh2 = msk['Fresh'].sum()\n",
    "frozen2 = msk['Frozen'].sum()\n",
    "milk3 = oth['Milk'].sum()\n",
    "fresh3 = oth['Fresh'].sum()\n",
    "frozen3 = oth['Frozen'].sum()"
   ]
  },
  {
   "cell_type": "code",
   "execution_count": 10,
   "id": "33c26f51-af65-4efc-bfee-9f8028218ba9",
   "metadata": {},
   "outputs": [
    {
     "name": "stdout",
     "output_type": "stream",
     "text": [
      "422454   854833   231026\n"
     ]
    }
   ],
   "source": [
    "print (milk1, ' ', fresh1, ' ', frozen1)"
   ]
  },
  {
   "cell_type": "code",
   "execution_count": 11,
   "id": "7fd1c6d6-0b9d-4dad-be3b-27e17e384e69",
   "metadata": {},
   "outputs": [
    {
     "name": "stdout",
     "output_type": "stream",
     "text": [
      "239144   464721   190132\n"
     ]
    }
   ],
   "source": [
    "print (milk2, ' ', fresh2, ' ', frozen2)"
   ]
  },
  {
   "cell_type": "code",
   "execution_count": 12,
   "id": "065dbabe-a03e-4614-86bd-2b06964572fb",
   "metadata": {},
   "outputs": [
    {
     "name": "stdout",
     "output_type": "stream",
     "text": [
      "1888759   3960577   930492\n"
     ]
    }
   ],
   "source": [
    "print (milk3, ' ', fresh3, ' ', frozen3)"
   ]
  },
  {
   "cell_type": "code",
   "execution_count": 13,
   "id": "a8a3343c-7db5-4525-b364-3a1a5d47b34b",
   "metadata": {},
   "outputs": [
    {
     "data": {
      "image/png": "[encoded data removed]",
      "text/plain": [
       "<Figure size 432x288 with 1 Axes>"
      ]
     },
     "metadata": {},
     "output_type": "display_data"
    }
   ],
   "source": [
    "# make data\n",
    "x = [milk1, fresh1, frozen1]\n",
    "colors = plt.get_cmap('Blues')(np.linspace(0.2, 0.7, len(x)))\n",
    "\n",
    "# plot\n",
    "fig, ax = plt.subplots()\n",
    "ax.set_title('Sales distribution in Yekaterinburg')\n",
    "labels = [r'Milk',r'Fresh',r'Frozen']\n",
    "patches, texts = plt.pie(x,colors=colors,startangle=90)\n",
    "plt.legend(patches,labels, loc=\"best\")\n",
    "plt.axis('equal')\n",
    "plt.tight_layout()\n",
    "plt.show()"
   ]
  },
  {
   "cell_type": "code",
   "execution_count": 14,
   "id": "b26c1b8f-d051-4959-8021-a10bc2d520da",
   "metadata": {},
   "outputs": [
    {
     "data": {
      "image/png": "[encoded data removed]",
      "text/plain": [
       "<Figure size 432x288 with 1 Axes>"
      ]
     },
     "metadata": {},
     "output_type": "display_data"
    }
   ],
   "source": [
    "# make data\n",
    "x = [milk2, fresh2, frozen2]\n",
    "colors = plt.get_cmap('Reds')(np.linspace(0.2, 0.7, len(x)))\n",
    "\n",
    "# plot\n",
    "fig, ax = plt.subplots()\n",
    "\n",
    "ax.set_title('Sales distribution in Moscow')\n",
    "labels = [r'Milk',r'Fresh',r'Frozen']\n",
    "patches, texts = plt.pie(x,colors=colors,startangle=90)\n",
    "plt.legend(patches,labels, loc=\"best\")\n",
    "plt.axis('equal')\n",
    "plt.tight_layout()\n",
    "plt.show()"
   ]
  },
  {
   "cell_type": "code",
   "execution_count": 15,
   "id": "370257a2-bd15-42ac-9277-f8566e4e0c8a",
   "metadata": {},
   "outputs": [
    {
     "data": {
      "image/png": "[encoded data removed]",
      "text/plain": [
       "<Figure size 432x288 with 1 Axes>"
      ]
     },
     "metadata": {},
     "output_type": "display_data"
    }
   ],
   "source": [
    "# make data\n",
    "x = [milk3, fresh3, frozen3]\n",
    "colors = plt.get_cmap('Greens')(np.linspace(0.2, 0.7, len(x)))\n",
    "\n",
    "# plot\n",
    "fig, ax = plt.subplots()\n",
    "\n",
    "ax.set_title('Sales distribution in Other regions')\n",
    "labels = [r'Milk',r'Fresh',r'Frozen']\n",
    "patches, texts = plt.pie(x,colors=colors,startangle=90)\n",
    "plt.legend(patches,labels, loc=\"best\")\n",
    "plt.axis('equal')\n",
    "plt.tight_layout()\n",
    "plt.show()"
   ]
  },
  {
   "cell_type": "code",
   "execution_count": 16,
   "id": "25840020-c6fa-419c-a4f2-ad1f414d03ba",
   "metadata": {},
   "outputs": [
    {
     "data": {
      "image/png": "[encoded data removed]",
      "text/plain": [
       "<Figure size 432x288 with 1 Axes>"
      ]
     },
     "metadata": {
      "needs_background": "light"
     },
     "output_type": "display_data"
    }
   ],
   "source": [
    "marks =(milk1, milk2, milk3)\n",
    "regions = ('Yekaterinburg', 'Moscow', 'Other')\n",
    "x_pos = np.arange (len(regions))\n",
    "labels = ('420.000', '240.000', '1.900.000')\n",
    "fig,ax = plt.subplots(1,1)\n",
    "bars = ax.bar (regions, marks, align='center')\n",
    "ax.set_ylabel('Units sold')\n",
    "ax.set_title('Milk sales distribution')\n",
    "ax.get_yaxis().get_major_formatter().set_scientific(False)\n",
    "ax.bar_label(bars, labels)\n",
    "ax.set_ylim(top=2500000)\n",
    "\n",
    "plt.show()"
   ]
  },
  {
   "cell_type": "code",
   "execution_count": 17,
   "id": "47112659-2b4b-49a4-add4-2891d7abf8e1",
   "metadata": {},
   "outputs": [
    {
     "data": {
      "image/png": "[encoded data removed]",
      "text/plain": [
       "<Figure size 432x288 with 1 Axes>"
      ]
     },
     "metadata": {
      "needs_background": "light"
     },
     "output_type": "display_data"
    }
   ],
   "source": [
    "marks =(fresh1, fresh2, fresh3)\n",
    "regions = ('Yekaterinburg', 'Moscow', 'Other')\n",
    "x_pos = np.arange (len(regions))\n",
    "labels = ('850.000', '460.000', '3.960.000')\n",
    "fig,ax = plt.subplots(1,1)\n",
    "bars = ax.bar (regions, marks, align='center')\n",
    "ax.set_ylabel('Units sold')\n",
    "ax.set_title('Fresh products sales distribution')\n",
    "ax.get_yaxis().get_major_formatter().set_scientific(False)\n",
    "ax.bar_label(bars, labels)\n",
    "ax.set_ylim(top=4500000)\n",
    "\n",
    "plt.show()"
   ]
  },
  {
   "cell_type": "code",
   "execution_count": 18,
   "id": "6e220313-fd03-42c3-9ba2-4fe7bc4ef8eb",
   "metadata": {},
   "outputs": [
    {
     "data": {
      "image/png": "[encoded data removed]",
      "text/plain": [
       "<Figure size 432x288 with 1 Axes>"
      ]
     },
     "metadata": {
      "needs_background": "light"
     },
     "output_type": "display_data"
    }
   ],
   "source": [
    "marks =(frozen1, frozen2, frozen3)\n",
    "regions = ('Yekaterinburg', 'Moscow', 'Other')\n",
    "labels = ('230.000', '190.000', '930.000')\n",
    "x_pos = np.arange (len(regions))\n",
    "fig,ax = plt.subplots(1,1)\n",
    "bars = ax.bar (regions, marks, align='center')\n",
    "ax.set_ylabel('Units sold')\n",
    "ax.set_title('Frozen products sales distribution')\n",
    "ax.get_yaxis().get_major_formatter().set_scientific(False)\n",
    "ax.bar_label(bars, labels)\n",
    "ax.set_ylim(top=1000000)\n",
    "\n",
    "plt.show()"
   ]
  },
  {
   "cell_type": "code",
   "execution_count": 19,
   "id": "2a2d9d4c-cd39-4711-ba2b-0e476442904a",
   "metadata": {},
   "outputs": [],
   "source": [
    "#Random forest regression"
   ]
  },
  {
   "cell_type": "code",
   "execution_count": 151,
   "id": "6b8f6482-e186-4f21-9703-71a8c6baeb54",
   "metadata": {},
   "outputs": [],
   "source": [
    "from sklearn.ensemble import RandomForestRegressor\n",
    "from sklearn.model_selection import train_test_split\n",
    "from sklearn.preprocessing import StandardScaler"
   ]
  },
  {
   "cell_type": "code",
   "execution_count": 75,
   "id": "3c40761f-e369-4d7f-a738-fa7f735fbfba",
   "metadata": {},
   "outputs": [],
   "source": [
    "x = df.drop(['Region'], axis=1)\n",
    "y = df['Region']\n",
    "x=StandardScaler().fit_transform(x)"
   ]
  },
  {
   "cell_type": "code",
   "execution_count": 76,
   "id": "22522572-361a-46e8-b4ba-a471365f0c28",
   "metadata": {},
   "outputs": [],
   "source": [
    "x_train, x_test, y_train, y_test = train_test_split(x,y,test_size=0.33, random_state=0)"
   ]
  },
  {
   "cell_type": "code",
   "execution_count": 77,
   "id": "bb2eefbb-b106-492a-a096-18016ad3822f",
   "metadata": {},
   "outputs": [],
   "source": [
    "regressor=RandomForestRegressor(n_estimators=10, random_state=0)"
   ]
  },
  {
   "cell_type": "code",
   "execution_count": 78,
   "id": "e9071cae-be02-4b24-ba6e-2370ae4769a8",
   "metadata": {},
   "outputs": [
    {
     "data": {
      "text/plain": [
       "RandomForestRegressor(n_estimators=10, random_state=0)"
      ]
     },
     "execution_count": 78,
     "metadata": {},
     "output_type": "execute_result"
    }
   ],
   "source": [
    "regressor.fit(x_train, y_train)"
   ]
  },
  {
   "cell_type": "code",
   "execution_count": 79,
   "id": "bece4d58-2161-46c7-aab4-6579377f6187",
   "metadata": {},
   "outputs": [
    {
     "data": {
      "text/plain": [
       "0.7740705433746425"
      ]
     },
     "execution_count": 79,
     "metadata": {},
     "output_type": "execute_result"
    }
   ],
   "source": [
    "regressor.score(x_train, y_train)"
   ]
  },
  {
   "cell_type": "code",
   "execution_count": 80,
   "id": "16894bcb-5ae4-480a-8a0f-fcac1fe3415b",
   "metadata": {},
   "outputs": [
    {
     "data": {
      "text/plain": [
       "-0.17730614143920587"
      ]
     },
     "execution_count": 80,
     "metadata": {},
     "output_type": "execute_result"
    }
   ],
   "source": [
    "regressor.score(x_test, y_test)"
   ]
  },
  {
   "cell_type": "code",
   "execution_count": 88,
   "id": "8b10923a-3d87-49c8-a34a-da493d49d8f0",
   "metadata": {},
   "outputs": [],
   "source": [
    "x_new =df.drop(['Region'], axis=1).head(10)"
   ]
  },
  {
   "cell_type": "code",
   "execution_count": 89,
   "id": "77266d74-4aa4-47fa-aaf0-fdf26a5966c2",
   "metadata": {},
   "outputs": [
    {
     "name": "stdout",
     "output_type": "stream",
     "text": [
      "   Channel  Fresh   Milk  Grocery  Frozen  Detergents_Paper  Delicassen\n",
      "0        2  12669   9656     7561     214              2674        1338\n",
      "1        2   7057   9810     9568    1762              3293        1776\n",
      "2        2   6353   8808     7684    2405              3516        7844\n",
      "3        1  13265   1196     4221    6404               507        1788\n",
      "4        2  22615   5410     7198    3915              1777        5185\n",
      "5        2   9413   8259     5126     666              1795        1451\n",
      "6        2  12126   3199     6975     480              3140         545\n",
      "7        2   7579   4956     9426    1669              3321        2566\n",
      "8        1   5963   3648     6192     425              1716         750\n",
      "9        2   6006  11093    18881    1159              7425        2098\n"
     ]
    }
   ],
   "source": [
    "print(x_new)"
   ]
  },
  {
   "cell_type": "code",
   "execution_count": 29,
   "id": "58ac7496-492f-4a65-b78a-967f618cf2f2",
   "metadata": {},
   "outputs": [
    {
     "data": {
      "text/plain": [
       "array([3. , 2.7, 3. , 3. , 3. , 3. , 2.7, 3. , 2.5, 2.2])"
      ]
     },
     "execution_count": 29,
     "metadata": {},
     "output_type": "execute_result"
    }
   ],
   "source": [
    "regressor.predict(x_new)"
   ]
  },
  {
   "cell_type": "code",
   "execution_count": 30,
   "id": "34ecfa7b-1594-4a01-aefd-f8f2705e2aef",
   "metadata": {},
   "outputs": [
    {
     "data": {
      "text/html": [
       "<div>\n",
       "<style scoped>\n",
       "    .dataframe tbody tr th:only-of-type {\n",
       "        vertical-align: middle;\n",
       "    }\n",
       "\n",
       "    .dataframe tbody tr th {\n",
       "        vertical-align: top;\n",
       "    }\n",
       "\n",
       "    .dataframe thead th {\n",
       "        text-align: right;\n",
       "    }\n",
       "</style>\n",
       "<table border=\"1\" class=\"dataframe\">\n",
       "  <thead>\n",
       "    <tr style=\"text-align: right;\">\n",
       "      <th></th>\n",
       "      <th>Channel</th>\n",
       "      <th>Region</th>\n",
       "      <th>Fresh</th>\n",
       "      <th>Milk</th>\n",
       "      <th>Grocery</th>\n",
       "      <th>Frozen</th>\n",
       "      <th>Detergents_Paper</th>\n",
       "      <th>Delicassen</th>\n",
       "    </tr>\n",
       "  </thead>\n",
       "  <tbody>\n",
       "    <tr>\n",
       "      <th>0</th>\n",
       "      <td>2</td>\n",
       "      <td>3</td>\n",
       "      <td>12669</td>\n",
       "      <td>9656</td>\n",
       "      <td>7561</td>\n",
       "      <td>214</td>\n",
       "      <td>2674</td>\n",
       "      <td>1338</td>\n",
       "    </tr>\n",
       "    <tr>\n",
       "      <th>1</th>\n",
       "      <td>2</td>\n",
       "      <td>3</td>\n",
       "      <td>7057</td>\n",
       "      <td>9810</td>\n",
       "      <td>9568</td>\n",
       "      <td>1762</td>\n",
       "      <td>3293</td>\n",
       "      <td>1776</td>\n",
       "    </tr>\n",
       "    <tr>\n",
       "      <th>2</th>\n",
       "      <td>2</td>\n",
       "      <td>3</td>\n",
       "      <td>6353</td>\n",
       "      <td>8808</td>\n",
       "      <td>7684</td>\n",
       "      <td>2405</td>\n",
       "      <td>3516</td>\n",
       "      <td>7844</td>\n",
       "    </tr>\n",
       "    <tr>\n",
       "      <th>3</th>\n",
       "      <td>1</td>\n",
       "      <td>3</td>\n",
       "      <td>13265</td>\n",
       "      <td>1196</td>\n",
       "      <td>4221</td>\n",
       "      <td>6404</td>\n",
       "      <td>507</td>\n",
       "      <td>1788</td>\n",
       "    </tr>\n",
       "    <tr>\n",
       "      <th>4</th>\n",
       "      <td>2</td>\n",
       "      <td>3</td>\n",
       "      <td>22615</td>\n",
       "      <td>5410</td>\n",
       "      <td>7198</td>\n",
       "      <td>3915</td>\n",
       "      <td>1777</td>\n",
       "      <td>5185</td>\n",
       "    </tr>\n",
       "    <tr>\n",
       "      <th>5</th>\n",
       "      <td>2</td>\n",
       "      <td>3</td>\n",
       "      <td>9413</td>\n",
       "      <td>8259</td>\n",
       "      <td>5126</td>\n",
       "      <td>666</td>\n",
       "      <td>1795</td>\n",
       "      <td>1451</td>\n",
       "    </tr>\n",
       "    <tr>\n",
       "      <th>6</th>\n",
       "      <td>2</td>\n",
       "      <td>3</td>\n",
       "      <td>12126</td>\n",
       "      <td>3199</td>\n",
       "      <td>6975</td>\n",
       "      <td>480</td>\n",
       "      <td>3140</td>\n",
       "      <td>545</td>\n",
       "    </tr>\n",
       "    <tr>\n",
       "      <th>7</th>\n",
       "      <td>2</td>\n",
       "      <td>3</td>\n",
       "      <td>7579</td>\n",
       "      <td>4956</td>\n",
       "      <td>9426</td>\n",
       "      <td>1669</td>\n",
       "      <td>3321</td>\n",
       "      <td>2566</td>\n",
       "    </tr>\n",
       "    <tr>\n",
       "      <th>8</th>\n",
       "      <td>1</td>\n",
       "      <td>3</td>\n",
       "      <td>5963</td>\n",
       "      <td>3648</td>\n",
       "      <td>6192</td>\n",
       "      <td>425</td>\n",
       "      <td>1716</td>\n",
       "      <td>750</td>\n",
       "    </tr>\n",
       "    <tr>\n",
       "      <th>9</th>\n",
       "      <td>2</td>\n",
       "      <td>3</td>\n",
       "      <td>6006</td>\n",
       "      <td>11093</td>\n",
       "      <td>18881</td>\n",
       "      <td>1159</td>\n",
       "      <td>7425</td>\n",
       "      <td>2098</td>\n",
       "    </tr>\n",
       "  </tbody>\n",
       "</table>\n",
       "</div>"
      ],
      "text/plain": [
       "   Channel  Region  Fresh   Milk  Grocery  Frozen  Detergents_Paper  \\\n",
       "0        2       3  12669   9656     7561     214              2674   \n",
       "1        2       3   7057   9810     9568    1762              3293   \n",
       "2        2       3   6353   8808     7684    2405              3516   \n",
       "3        1       3  13265   1196     4221    6404               507   \n",
       "4        2       3  22615   5410     7198    3915              1777   \n",
       "5        2       3   9413   8259     5126     666              1795   \n",
       "6        2       3  12126   3199     6975     480              3140   \n",
       "7        2       3   7579   4956     9426    1669              3321   \n",
       "8        1       3   5963   3648     6192     425              1716   \n",
       "9        2       3   6006  11093    18881    1159              7425   \n",
       "\n",
       "   Delicassen  \n",
       "0        1338  \n",
       "1        1776  \n",
       "2        7844  \n",
       "3        1788  \n",
       "4        5185  \n",
       "5        1451  \n",
       "6         545  \n",
       "7        2566  \n",
       "8         750  \n",
       "9        2098  "
      ]
     },
     "execution_count": 30,
     "metadata": {},
     "output_type": "execute_result"
    }
   ],
   "source": [
    "df.head(10)"
   ]
  },
  {
   "cell_type": "code",
   "execution_count": 31,
   "id": "b2a1ec87-8f05-445a-80ab-344a7656000d",
   "metadata": {},
   "outputs": [],
   "source": [
    "#Random forest classification\n",
    "from sklearn.ensemble import RandomForestClassifier\n",
    "x = df.drop(['Region'], axis=1)\n",
    "y = df['Region']"
   ]
  },
  {
   "cell_type": "code",
   "execution_count": 32,
   "id": "62430bcd-4cb1-41e3-a113-a81ef89dc61a",
   "metadata": {},
   "outputs": [],
   "source": [
    "x_train, x_test, y_train, y_test =\\\n",
    "... train_test_split(x,y,test_size=0.33, random_state=0)"
   ]
  },
  {
   "cell_type": "code",
   "execution_count": 33,
   "id": "1d52d7ed-bd5a-4ee0-859b-443837142755",
   "metadata": {},
   "outputs": [],
   "source": [
    "classifier = RandomForestClassifier(n_estimators=10, random_state=0)"
   ]
  },
  {
   "cell_type": "code",
   "execution_count": 34,
   "id": "385cb4d5-efa7-40d7-884d-a2e31cb68e8e",
   "metadata": {},
   "outputs": [
    {
     "data": {
      "text/plain": [
       "RandomForestClassifier(n_estimators=10, random_state=0)"
      ]
     },
     "execution_count": 34,
     "metadata": {},
     "output_type": "execute_result"
    }
   ],
   "source": [
    "classifier.fit(x_train, y_train)"
   ]
  },
  {
   "cell_type": "code",
   "execution_count": 35,
   "id": "98f9b436-413b-42db-ad09-ed1156e47ec2",
   "metadata": {},
   "outputs": [
    {
     "data": {
      "text/plain": [
       "0.9863945578231292"
      ]
     },
     "execution_count": 35,
     "metadata": {},
     "output_type": "execute_result"
    }
   ],
   "source": [
    "classifier.score(x_train, y_train)"
   ]
  },
  {
   "cell_type": "code",
   "execution_count": 36,
   "id": "f2178cec-643d-47d9-ba35-817d3294932f",
   "metadata": {},
   "outputs": [
    {
     "data": {
      "text/plain": [
       "0.6917808219178082"
      ]
     },
     "execution_count": 36,
     "metadata": {},
     "output_type": "execute_result"
    }
   ],
   "source": [
    "classifier.score(x_test,y_test)"
   ]
  },
  {
   "cell_type": "code",
   "execution_count": 37,
   "id": "b87f747c-3a5f-4929-9f9e-a9327f3aa073",
   "metadata": {},
   "outputs": [
    {
     "data": {
      "text/plain": [
       "array([3, 3, 3, 3, 3, 3, 3, 3, 3, 3], dtype=int64)"
      ]
     },
     "execution_count": 37,
     "metadata": {},
     "output_type": "execute_result"
    }
   ],
   "source": [
    "x_new = x.head(10)\n",
    "classifier.predict(x_new)"
   ]
  },
  {
   "cell_type": "code",
   "execution_count": null,
   "id": "95562e56-33c1-451f-89b7-746f22b3fa2f",
   "metadata": {},
   "outputs": [],
   "source": [
    "#Naive-Bayes"
   ]
  },
  {
   "cell_type": "code",
   "execution_count": 38,
   "id": "939b6fe3-855f-405c-be0a-f96f6af33c73",
   "metadata": {},
   "outputs": [],
   "source": [
    "from sklearn.naive_bayes import GaussianNB"
   ]
  },
  {
   "cell_type": "code",
   "execution_count": 39,
   "id": "03d75169-7def-46c3-a5e4-727118a759c2",
   "metadata": {},
   "outputs": [],
   "source": [
    "gnb = GaussianNB()"
   ]
  },
  {
   "cell_type": "code",
   "execution_count": 49,
   "id": "d966699c",
   "metadata": {},
   "outputs": [
    {
     "data": {
      "text/plain": [
       "array([1, 3, 3, 3, 3, 3, 3, 3, 1, 3, 2, 2, 1, 3, 3, 3, 3, 3, 3, 3, 3, 3,\n",
       "       1, 3, 1, 1, 3, 3, 3, 3, 1, 1, 3, 1, 3, 3, 2, 1, 1, 1, 1, 3, 3, 2,\n",
       "       3, 3, 3, 2, 3, 1, 3, 1, 1, 1, 3, 2, 3, 3, 2, 3, 1, 1, 1, 3, 1, 2,\n",
       "       3, 3, 1, 2, 3, 3, 2, 3, 3, 3, 3, 3, 3, 3, 2, 1, 3, 3, 3, 3, 1, 1,\n",
       "       3, 2, 3, 3, 3, 3, 1, 1, 3, 1, 1, 3, 3, 1, 3, 3, 3, 3, 3, 1, 3, 3,\n",
       "       3, 3, 3, 2, 1, 3, 1, 1, 1, 3, 3, 3, 2, 1, 3, 3, 2, 3, 1, 3, 3, 3,\n",
       "       3, 3, 2, 1, 3, 1, 2, 2, 2, 1, 1, 3, 3, 1], dtype=int64)"
      ]
     },
     "execution_count": 49,
     "metadata": {},
     "output_type": "execute_result"
    }
   ],
   "source": [
    "gnb.fit(x_train, y_train)\n",
    "gnb.predict(x_test)"
   ]
  },
  {
   "cell_type": "code",
   "execution_count": 50,
   "id": "103bcfaf",
   "metadata": {},
   "outputs": [
    {
     "data": {
      "text/plain": [
       "208    1\n",
       "349    3\n",
       "249    1\n",
       "319    2\n",
       "54     3\n",
       "12     3\n",
       "159    3\n",
       "284    3\n",
       "274    3\n",
       "318    2\n",
       "Name: Region, dtype: int64"
      ]
     },
     "execution_count": 50,
     "metadata": {},
     "output_type": "execute_result"
    }
   ],
   "source": [
    "y_test.head(10)"
   ]
  },
  {
   "cell_type": "code",
   "execution_count": 51,
   "id": "3aa707a4",
   "metadata": {},
   "outputs": [
    {
     "data": {
      "text/plain": [
       "0.5136054421768708"
      ]
     },
     "execution_count": 51,
     "metadata": {},
     "output_type": "execute_result"
    }
   ],
   "source": [
    "gnb.score(x_train, y_train)"
   ]
  },
  {
   "cell_type": "code",
   "execution_count": 52,
   "id": "de9fc584",
   "metadata": {},
   "outputs": [
    {
     "data": {
      "text/plain": [
       "0.4931506849315068"
      ]
     },
     "execution_count": 52,
     "metadata": {},
     "output_type": "execute_result"
    }
   ],
   "source": [
    "gnb.score(x_test,y_test)"
   ]
  },
  {
   "cell_type": "code",
   "execution_count": 53,
   "id": "94cdbd6f",
   "metadata": {},
   "outputs": [],
   "source": [
    "#LinearSVC"
   ]
  },
  {
   "cell_type": "code",
   "execution_count": 82,
   "id": "8871a536",
   "metadata": {},
   "outputs": [],
   "source": [
    "from sklearn.svm import LinearSVC"
   ]
  },
  {
   "cell_type": "code",
   "execution_count": 83,
   "id": "884d2724",
   "metadata": {},
   "outputs": [],
   "source": [
    "svc_model = LinearSVC(random_state=0, max_iter=10000)"
   ]
  },
  {
   "cell_type": "code",
   "execution_count": 84,
   "id": "e3d20fb4",
   "metadata": {},
   "outputs": [
    {
     "data": {
      "text/plain": [
       "LinearSVC(max_iter=10000, random_state=0)"
      ]
     },
     "execution_count": 84,
     "metadata": {},
     "output_type": "execute_result"
    }
   ],
   "source": [
    "svc_model.fit(x_train,y_train)"
   ]
  },
  {
   "cell_type": "code",
   "execution_count": 86,
   "id": "552c2779",
   "metadata": {},
   "outputs": [
    {
     "data": {
      "text/plain": [
       "0.7244897959183674"
      ]
     },
     "execution_count": 86,
     "metadata": {},
     "output_type": "execute_result"
    }
   ],
   "source": [
    "svc_model.score(x_train,y_train)"
   ]
  },
  {
   "cell_type": "code",
   "execution_count": 87,
   "id": "db5419b4",
   "metadata": {},
   "outputs": [
    {
     "data": {
      "text/plain": [
       "0.7191780821917808"
      ]
     },
     "execution_count": 87,
     "metadata": {},
     "output_type": "execute_result"
    }
   ],
   "source": [
    "svc_model.score(x_test,y_test)"
   ]
  },
  {
   "cell_type": "code",
   "execution_count": 90,
   "id": "b2392ea9",
   "metadata": {},
   "outputs": [],
   "source": [
    "#K-Neighbors Classifier"
   ]
  },
  {
   "cell_type": "code",
   "execution_count": 91,
   "id": "5d6148b3",
   "metadata": {},
   "outputs": [],
   "source": [
    "from sklearn.neighbors import KNeighborsClassifier"
   ]
  },
  {
   "cell_type": "code",
   "execution_count": 133,
   "id": "288a638f",
   "metadata": {},
   "outputs": [],
   "source": [
    "knn = KNeighborsClassifier(n_neighbors=9)"
   ]
  },
  {
   "cell_type": "code",
   "execution_count": 134,
   "id": "c30f464e",
   "metadata": {},
   "outputs": [
    {
     "data": {
      "text/plain": [
       "KNeighborsClassifier(n_neighbors=9)"
      ]
     },
     "execution_count": 134,
     "metadata": {},
     "output_type": "execute_result"
    }
   ],
   "source": [
    "knn.fit(x_train,y_train)"
   ]
  },
  {
   "cell_type": "code",
   "execution_count": 135,
   "id": "cf5b3e85",
   "metadata": {},
   "outputs": [
    {
     "data": {
      "text/plain": [
       "array([3, 3, 3, 3, 3, 3, 3, 3, 3, 3, 3, 3, 3, 3, 3, 3, 3, 3, 3, 3, 3, 3,\n",
       "       3, 3, 3, 3, 3, 1, 3, 3, 3, 3, 3, 3, 3, 3, 3, 3, 3, 3, 3, 3, 3, 3,\n",
       "       3, 3, 3, 3, 3, 3, 3, 3, 3, 3, 3, 3, 3, 3, 3, 3, 3, 3, 3, 3, 3, 3,\n",
       "       3, 3, 3, 3, 3, 3, 3, 3, 3, 3, 3, 3, 3, 3, 3, 3, 3, 3, 3, 3, 3, 3,\n",
       "       3, 3, 3, 3, 3, 3, 3, 3, 3, 3, 3, 3, 3, 3, 3, 3, 3, 3, 3, 3, 3, 3,\n",
       "       3, 3, 3, 3, 3, 3, 3, 3, 3, 3, 3, 3, 3, 3, 3, 3, 3, 3, 3, 3, 3, 3,\n",
       "       3, 3, 3, 3, 3, 3, 3, 3, 3, 3, 3, 3, 3, 3], dtype=int64)"
      ]
     },
     "execution_count": 135,
     "metadata": {},
     "output_type": "execute_result"
    }
   ],
   "source": [
    "knn.predict(x_test)"
   ]
  },
  {
   "cell_type": "code",
   "execution_count": 136,
   "id": "b615f39b",
   "metadata": {},
   "outputs": [
    {
     "data": {
      "text/plain": [
       "0.7142857142857143"
      ]
     },
     "execution_count": 136,
     "metadata": {},
     "output_type": "execute_result"
    }
   ],
   "source": [
    "knn.score(x_train,y_train)"
   ]
  },
  {
   "cell_type": "code",
   "execution_count": 137,
   "id": "86511011",
   "metadata": {},
   "outputs": [
    {
     "data": {
      "text/plain": [
       "0.7123287671232876"
      ]
     },
     "execution_count": 137,
     "metadata": {},
     "output_type": "execute_result"
    }
   ],
   "source": [
    "knn.score(x_test,y_test)"
   ]
  },
  {
   "cell_type": "code",
   "execution_count": 138,
   "id": "6fff030b",
   "metadata": {},
   "outputs": [],
   "source": [
    "#Total metrics:"
   ]
  },
  {
   "cell_type": "code",
   "execution_count": 140,
   "id": "e8ca1006",
   "metadata": {},
   "outputs": [],
   "source": [
    "#Random forest regression:\n",
    "#Training score: 0.7740705433746425\n",
    "#Test score: -0.17730614143920587"
   ]
  },
  {
   "cell_type": "code",
   "execution_count": 141,
   "id": "6ed8fce6",
   "metadata": {},
   "outputs": [],
   "source": [
    "#Random forest classification:\n",
    "#Training score: 0.9863945578231292\n",
    "#Test score: 0.6917808219178082"
   ]
  },
  {
   "cell_type": "code",
   "execution_count": 142,
   "id": "51a03bd2",
   "metadata": {},
   "outputs": [],
   "source": [
    "#Naive-Bayes:\n",
    "#Training score: 0.5136054421768708\n",
    "#Test score: 0.4931506849315068"
   ]
  },
  {
   "cell_type": "code",
   "execution_count": 143,
   "id": "35230878",
   "metadata": {},
   "outputs": [],
   "source": [
    "#LinearSVC:\n",
    "#Training score: 0.7244897959183674\n",
    "#Test score: 0.7191780821917808"
   ]
  },
  {
   "cell_type": "code",
   "execution_count": 144,
   "id": "d6e923b8",
   "metadata": {},
   "outputs": [],
   "source": [
    "#K-Neighbors classifier:\n",
    "#Training score: 0.7142857142857143\n",
    "#Test score: 0.7123287671232876"
   ]
  },
  {
   "cell_type": "code",
   "execution_count": null,
   "id": "e9ad2838",
   "metadata": {},
   "outputs": [],
   "source": [
    "#Top performance: Random forest classification"
   ]
  }
 ],
 "metadata": {
  "kernelspec": {
   "display_name": "Python 3 (ipykernel)",
   "language": "python",
   "name": "python3"
  },
  "language_info": {
   "codemirror_mode": {
    "name": "ipython",
    "version": 3
   },
   "file_extension": ".py",
   "mimetype": "text/x-python",
   "name": "python",
   "nbconvert_exporter": "python",
   "pygments_lexer": "ipython3",
   "version": "3.9.12"
  }
 },
 "nbformat": 4,
 "nbformat_minor": 5
}
